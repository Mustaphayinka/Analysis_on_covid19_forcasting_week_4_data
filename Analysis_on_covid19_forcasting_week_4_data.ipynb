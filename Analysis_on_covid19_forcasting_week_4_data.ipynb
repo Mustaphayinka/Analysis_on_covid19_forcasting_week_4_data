{
 "cells": [
  {
   "cell_type": "code",
   "execution_count": 1,
   "metadata": {},
   "outputs": [],
   "source": [
    "#Import relevant libraries\n",
    "import pandas as pd\n",
    "from matplotlib import pyplot as plt\n",
    "import numpy as np \n",
    "%matplotlib inline\n",
    "import seaborn as sns"
   ]
  },
  {
   "cell_type": "code",
   "execution_count": 2,
   "metadata": {},
   "outputs": [
    {
     "data": {
      "text/html": [
       "<div>\n",
       "<style scoped>\n",
       "    .dataframe tbody tr th:only-of-type {\n",
       "        vertical-align: middle;\n",
       "    }\n",
       "\n",
       "    .dataframe tbody tr th {\n",
       "        vertical-align: top;\n",
       "    }\n",
       "\n",
       "    .dataframe thead th {\n",
       "        text-align: right;\n",
       "    }\n",
       "</style>\n",
       "<table border=\"1\" class=\"dataframe\">\n",
       "  <thead>\n",
       "    <tr style=\"text-align: right;\">\n",
       "      <th></th>\n",
       "      <th>Id</th>\n",
       "      <th>Country_Region</th>\n",
       "      <th>Province_State</th>\n",
       "      <th>Date</th>\n",
       "      <th>ConfirmedCases</th>\n",
       "      <th>Fatalities</th>\n",
       "    </tr>\n",
       "  </thead>\n",
       "  <tbody>\n",
       "    <tr>\n",
       "      <th>0</th>\n",
       "      <td>1</td>\n",
       "      <td>Afghanistan</td>\n",
       "      <td>NaN</td>\n",
       "      <td>2020-01-22</td>\n",
       "      <td>0.0</td>\n",
       "      <td>0.0</td>\n",
       "    </tr>\n",
       "    <tr>\n",
       "      <th>1</th>\n",
       "      <td>2</td>\n",
       "      <td>Afghanistan</td>\n",
       "      <td>NaN</td>\n",
       "      <td>2020-01-23</td>\n",
       "      <td>0.0</td>\n",
       "      <td>0.0</td>\n",
       "    </tr>\n",
       "    <tr>\n",
       "      <th>2</th>\n",
       "      <td>3</td>\n",
       "      <td>Afghanistan</td>\n",
       "      <td>NaN</td>\n",
       "      <td>2020-01-24</td>\n",
       "      <td>0.0</td>\n",
       "      <td>0.0</td>\n",
       "    </tr>\n",
       "    <tr>\n",
       "      <th>3</th>\n",
       "      <td>4</td>\n",
       "      <td>Afghanistan</td>\n",
       "      <td>NaN</td>\n",
       "      <td>2020-01-25</td>\n",
       "      <td>0.0</td>\n",
       "      <td>0.0</td>\n",
       "    </tr>\n",
       "    <tr>\n",
       "      <th>4</th>\n",
       "      <td>5</td>\n",
       "      <td>Afghanistan</td>\n",
       "      <td>NaN</td>\n",
       "      <td>2020-01-26</td>\n",
       "      <td>0.0</td>\n",
       "      <td>0.0</td>\n",
       "    </tr>\n",
       "  </tbody>\n",
       "</table>\n",
       "</div>"
      ],
      "text/plain": [
       "   Id Country_Region Province_State        Date  ConfirmedCases  Fatalities\n",
       "0   1    Afghanistan            NaN  2020-01-22             0.0         0.0\n",
       "1   2    Afghanistan            NaN  2020-01-23             0.0         0.0\n",
       "2   3    Afghanistan            NaN  2020-01-24             0.0         0.0\n",
       "3   4    Afghanistan            NaN  2020-01-25             0.0         0.0\n",
       "4   5    Afghanistan            NaN  2020-01-26             0.0         0.0"
      ]
     },
     "execution_count": 2,
     "metadata": {},
     "output_type": "execute_result"
    }
   ],
   "source": [
    "train = pd.read_csv('train.csv')\n",
    "train.head()"
   ]
  },
  {
   "cell_type": "code",
   "execution_count": 3,
   "metadata": {},
   "outputs": [
    {
     "data": {
      "text/plain": [
       "(24414, 6)"
      ]
     },
     "execution_count": 3,
     "metadata": {},
     "output_type": "execute_result"
    }
   ],
   "source": [
    "train.shape"
   ]
  },
  {
   "cell_type": "code",
   "execution_count": 4,
   "metadata": {},
   "outputs": [
    {
     "data": {
      "text/plain": [
       "Id                24414\n",
       "Country_Region    24414\n",
       "Province_State    10374\n",
       "Date              24414\n",
       "ConfirmedCases    24414\n",
       "Fatalities        24414\n",
       "dtype: int64"
      ]
     },
     "execution_count": 4,
     "metadata": {},
     "output_type": "execute_result"
    }
   ],
   "source": [
    "train.count()"
   ]
  },
  {
   "cell_type": "code",
   "execution_count": 5,
   "metadata": {},
   "outputs": [
    {
     "data": {
      "text/plain": [
       "Id                    0\n",
       "Country_Region        0\n",
       "Province_State    14040\n",
       "Date                  0\n",
       "ConfirmedCases        0\n",
       "Fatalities            0\n",
       "dtype: int64"
      ]
     },
     "execution_count": 5,
     "metadata": {},
     "output_type": "execute_result"
    }
   ],
   "source": [
    "train.isna().sum()"
   ]
  },
  {
   "cell_type": "code",
   "execution_count": 6,
   "metadata": {},
   "outputs": [
    {
     "data": {
      "image/png": "[encoded data removed]",
      "text/plain": [
       "<Figure size 432x288 with 1 Axes>"
      ]
     },
     "metadata": {
      "needs_background": "light"
     },
     "output_type": "display_data"
    }
   ],
   "source": [
    "#Country_Region top 20\n",
    "train['Country_Region'].value_counts()[0:20].plot(kind = 'bar', grid = True)\n",
    "plt.title('Country region')\n",
    "plt.xlabel('Country')\n",
    "plt.show()"
   ]
  },
  {
   "cell_type": "code",
   "execution_count": 7,
   "metadata": {},
   "outputs": [],
   "source": [
    "import datetime as datetime\n",
    "train['Dates'] = pd.to_datetime(train.Date)\n",
    "train['Year'] = train.Dates.dt.year\n",
    "train['Month'] = train.Dates.dt.month\n",
    "train['Week'] = train.Dates.dt.week\n",
    "train['Name of month'] = train.Dates.dt.month_name()\n",
    "train['Week_day_name'] = train.Dates.dt.weekday_name\n",
    "train['Day_of_year'] = train.Dates.dt.dayofyear"
   ]
  },
  {
   "cell_type": "code",
   "execution_count": 8,
   "metadata": {},
   "outputs": [
    {
     "data": {
      "text/plain": [
       "(24414, 13)"
      ]
     },
     "execution_count": 8,
     "metadata": {},
     "output_type": "execute_result"
    }
   ],
   "source": [
    "train.shape"
   ]
  },
  {
   "cell_type": "code",
   "execution_count": 9,
   "metadata": {},
   "outputs": [
    {
     "data": {
      "text/plain": [
       "(971145.0, 20391780.0)"
      ]
     },
     "execution_count": 9,
     "metadata": {},
     "output_type": "execute_result"
    }
   ],
   "source": [
    "train.Fatalities.sum(), train.ConfirmedCases.sum()"
   ]
  },
  {
   "cell_type": "code",
   "execution_count": 10,
   "metadata": {},
   "outputs": [
    {
     "data": {
      "text/html": [
       "<div>\n",
       "<style scoped>\n",
       "    .dataframe tbody tr th:only-of-type {\n",
       "        vertical-align: middle;\n",
       "    }\n",
       "\n",
       "    .dataframe tbody tr th {\n",
       "        vertical-align: top;\n",
       "    }\n",
       "\n",
       "    .dataframe thead th {\n",
       "        text-align: right;\n",
       "    }\n",
       "</style>\n",
       "<table border=\"1\" class=\"dataframe\">\n",
       "  <thead>\n",
       "    <tr style=\"text-align: right;\">\n",
       "      <th></th>\n",
       "      <th></th>\n",
       "      <th>ConfirmedCases</th>\n",
       "      <th>Fatalities</th>\n",
       "    </tr>\n",
       "    <tr>\n",
       "      <th>Province_State</th>\n",
       "      <th>Country_Region</th>\n",
       "      <th></th>\n",
       "      <th></th>\n",
       "    </tr>\n",
       "  </thead>\n",
       "  <tbody>\n",
       "    <tr>\n",
       "      <th>Alabama</th>\n",
       "      <th>US</th>\n",
       "      <td>19530.0</td>\n",
       "      <td>418.0</td>\n",
       "    </tr>\n",
       "    <tr>\n",
       "      <th>Alaska</th>\n",
       "      <th>US</th>\n",
       "      <td>2124.0</td>\n",
       "      <td>52.0</td>\n",
       "    </tr>\n",
       "    <tr>\n",
       "      <th>Alberta</th>\n",
       "      <th>Canada</th>\n",
       "      <td>14606.0</td>\n",
       "      <td>172.0</td>\n",
       "    </tr>\n",
       "    <tr>\n",
       "      <th>Anguilla</th>\n",
       "      <th>United Kingdom</th>\n",
       "      <td>31.0</td>\n",
       "      <td>0.0</td>\n",
       "    </tr>\n",
       "    <tr>\n",
       "      <th>Anhui</th>\n",
       "      <th>China</th>\n",
       "      <td>63487.0</td>\n",
       "      <td>347.0</td>\n",
       "    </tr>\n",
       "    <tr>\n",
       "      <th>Arizona</th>\n",
       "      <th>US</th>\n",
       "      <td>25282.0</td>\n",
       "      <td>549.0</td>\n",
       "    </tr>\n",
       "    <tr>\n",
       "      <th>Arkansas</th>\n",
       "      <th>US</th>\n",
       "      <td>10133.0</td>\n",
       "      <td>151.0</td>\n",
       "    </tr>\n",
       "    <tr>\n",
       "      <th>Aruba</th>\n",
       "      <th>Netherlands</th>\n",
       "      <td>865.0</td>\n",
       "      <td>0.0</td>\n",
       "    </tr>\n",
       "    <tr>\n",
       "      <th>Australian Capital Territory</th>\n",
       "      <th>Australia</th>\n",
       "      <td>1321.0</td>\n",
       "      <td>15.0</td>\n",
       "    </tr>\n",
       "    <tr>\n",
       "      <th>Beijing</th>\n",
       "      <th>China</th>\n",
       "      <td>30230.0</td>\n",
       "      <td>410.0</td>\n",
       "    </tr>\n",
       "  </tbody>\n",
       "</table>\n",
       "</div>"
      ],
      "text/plain": [
       "                                             ConfirmedCases  Fatalities\n",
       "Province_State               Country_Region                            \n",
       "Alabama                      US                     19530.0       418.0\n",
       "Alaska                       US                      2124.0        52.0\n",
       "Alberta                      Canada                 14606.0       172.0\n",
       "Anguilla                     United Kingdom            31.0         0.0\n",
       "Anhui                        China                  63487.0       347.0\n",
       "Arizona                      US                     25282.0       549.0\n",
       "Arkansas                     US                     10133.0       151.0\n",
       "Aruba                        Netherlands              865.0         0.0\n",
       "Australian Capital Territory Australia               1321.0        15.0\n",
       "Beijing                      China                  30230.0       410.0"
      ]
     },
     "execution_count": 10,
     "metadata": {},
     "output_type": "execute_result"
    }
   ],
   "source": [
    "#Grouping by province and country, the confirmed and fatality cases\n",
    "train.groupby(['Province_State','Country_Region'])['ConfirmedCases','Fatalities'].sum().head(10)"
   ]
  },
  {
   "cell_type": "code",
   "execution_count": 11,
   "metadata": {},
   "outputs": [
    {
     "data": {
      "text/plain": [
       "array(['Australia', 'Canada', 'China', 'Denmark', 'France', 'Netherlands',\n",
       "       'US', 'United Kingdom'], dtype=object)"
      ]
     },
     "execution_count": 11,
     "metadata": {},
     "output_type": "execute_result"
    }
   ],
   "source": [
    "#Countries with provinces/states\n",
    "train.loc[train.Province_State.isna()==False, 'Country_Region'].unique()"
   ]
  },
  {
   "cell_type": "code",
   "execution_count": 12,
   "metadata": {},
   "outputs": [
    {
     "data": {
      "text/plain": [
       "Kansas        78\n",
       "Utah          78\n",
       "Zhejiang      78\n",
       "Michigan      78\n",
       "New Jersey    78\n",
       "Name: Province_State, dtype: int64"
      ]
     },
     "execution_count": 12,
     "metadata": {},
     "output_type": "execute_result"
    }
   ],
   "source": [
    "#Provinces present in the data\n",
    "train.Province_State.value_counts().head()"
   ]
  },
  {
   "cell_type": "code",
   "execution_count": 13,
   "metadata": {},
   "outputs": [
    {
     "data": {
      "text/plain": [
       "Country_Region\n",
       "China             4847436.0\n",
       "US                3651436.0\n",
       "Italy             2217867.0\n",
       "Spain             1762730.0\n",
       "Germany           1363131.0\n",
       "France            1101300.0\n",
       "Iran               980452.0\n",
       "United Kingdom     529083.0\n",
       "Korea, South       338399.0\n",
       "Switzerland        320133.0\n",
       "Name: ConfirmedCases, dtype: float64"
      ]
     },
     "execution_count": 13,
     "metadata": {},
     "output_type": "execute_result"
    }
   ],
   "source": [
    "#Top 10 countries with the highest confirmed cases\n",
    "train.groupby(['Country_Region'])['ConfirmedCases'].sum().nlargest(10)"
   ]
  },
  {
   "cell_type": "code",
   "execution_count": 14,
   "metadata": {},
   "outputs": [
    {
     "data": {
      "text/plain": [
       "Country_Region\n",
       "Italy             240848.0\n",
       "China             172428.0\n",
       "Spain             152278.0\n",
       "US                 92033.0\n",
       "France             83133.0\n",
       "Iran               62520.0\n",
       "United Kingdom     45946.0\n",
       "Netherlands        19507.0\n",
       "Germany            16381.0\n",
       "Belgium            14764.0\n",
       "Name: Fatalities, dtype: float64"
      ]
     },
     "execution_count": 14,
     "metadata": {},
     "output_type": "execute_result"
    }
   ],
   "source": [
    "#Top 10 countries with the highest fatalities\n",
    "train.groupby(['Country_Region'])['Fatalities'].sum().nlargest(10)"
   ]
  },
  {
   "cell_type": "code",
   "execution_count": 15,
   "metadata": {},
   "outputs": [
    {
     "data": {
      "image/png": "[encoded data removed]",
      "text/plain": [
       "<Figure size 432x288 with 2 Axes>"
      ]
     },
     "metadata": {
      "needs_background": "light"
     },
     "output_type": "display_data"
    }
   ],
   "source": [
    "#Bar chart showing top 10 countries with the highest confirmed cases and fatalities\n",
    "plt.subplot(1,2,1)\n",
    "train.groupby(['Country_Region'])['ConfirmedCases'].sum().nlargest(10).plot(kind = 'bar',grid = True)\n",
    "plt.title('Highest confirmed cases')\n",
    "plt.xlabel('Countries')\n",
    "plt.ylabel('No. of confirmed cases')\n",
    "plt.subplot(1,2,2)\n",
    "train.groupby(['Country_Region'])['Fatalities'].sum().nlargest(10).plot(kind = 'bar', grid=True,\n",
    "                                                                    color='red')\n",
    "plt.title('Highest fatalities')\n",
    "plt.xlabel('Countries')\n",
    "plt.ylabel('No. of fatalities')\n",
    "plt.tight_layout()\n",
    "plt.show()"
   ]
  },
  {
   "cell_type": "code",
   "execution_count": 16,
   "metadata": {},
   "outputs": [
    {
     "data": {
      "text/plain": [
       "Province_State  Country_Region\n",
       "Hubei           China             3979714.0\n",
       "New York        US                1402650.0\n",
       "New Jersey      US                 374624.0\n",
       "California      US                 163544.0\n",
       "Michigan        US                 158466.0\n",
       "Massachusetts   US                 131451.0\n",
       "Louisiana       US                 128258.0\n",
       "Florida         US                 126900.0\n",
       "Illinois        US                 117701.0\n",
       "Pennsylvania    US                 112889.0\n",
       "Name: ConfirmedCases, dtype: float64"
      ]
     },
     "execution_count": 16,
     "metadata": {},
     "output_type": "execute_result"
    }
   ],
   "source": [
    "#Top 10 provinces and country_region with the highest confirmed cases\n",
    "train.groupby(['Province_State','Country_Region'])['ConfirmedCases'].sum().nlargest(10)"
   ]
  },
  {
   "cell_type": "code",
   "execution_count": 17,
   "metadata": {},
   "outputs": [
    {
     "data": {
      "image/png": "[encoded data removed]",
      "text/plain": [
       "<Figure size 432x288 with 2 Axes>"
      ]
     },
     "metadata": {
      "needs_background": "light"
     },
     "output_type": "display_data"
    }
   ],
   "source": [
    "#Bar chart showing top 10 provinces and their countries with the highest confirmed cases and fatalities\n",
    "plt.subplot(1,2,1)\n",
    "train.groupby(['Province_State', 'Country_Region'])['ConfirmedCases'].sum().nlargest(10).plot(kind = 'bar',grid = True)\n",
    "plt.title('Highest confirmed cases')\n",
    "plt.xlabel('Province/Country')\n",
    "plt.ylabel('No.of confirmed cases')\n",
    "plt.subplot(1,2,2)\n",
    "train.groupby(['Province_State', 'Country_Region'])['Fatalities'].sum().nlargest(10).plot(kind = 'bar',grid = True,\n",
    "                                                                       color = 'red')\n",
    "plt.title('Highest fatalities')\n",
    "plt.xlabel('Province/Country')\n",
    "plt.ylabel('No.of fatalities')\n",
    "plt.tight_layout()\n",
    "plt.show()"
   ]
  },
  {
   "cell_type": "code",
   "execution_count": 18,
   "metadata": {},
   "outputs": [
    {
     "data": {
      "text/plain": [
       "Province_State  Country_Region  Name of month\n",
       "Hubei           China           March            2098222.0\n",
       "                                February         1316575.0\n",
       "New York        US              April             939185.0\n",
       "Hubei           China           April             542421.0\n",
       "New York        US              March             463465.0\n",
       "New Jersey      US              April             282312.0\n",
       "Michigan        US              April             119330.0\n",
       "California      US              April             112314.0\n",
       "Louisiana       US              April              99567.0\n",
       "Massachusetts   US              April              97171.0\n",
       "Name: ConfirmedCases, dtype: float64"
      ]
     },
     "execution_count": 18,
     "metadata": {},
     "output_type": "execute_result"
    }
   ],
   "source": [
    "#Top 10 confirmed cases with their month, country and province\n",
    "train.groupby(['Province_State','Country_Region','Name of month'])['ConfirmedCases'].sum().nlargest(10)"
   ]
  },
  {
   "cell_type": "code",
   "execution_count": 19,
   "metadata": {},
   "outputs": [
    {
     "data": {
      "text/plain": [
       "Province_State  Country_Region  Name of month\n",
       "Hubei           China           March            94842.0\n",
       "                                February         44620.0\n",
       "New York        US              April            31428.0\n",
       "Hubei           China           April            25649.0\n",
       "New Jersey      US              April             7040.0\n",
       "New York        US              March             6323.0\n",
       "Michigan        US              April             4919.0\n",
       "Louisiana       US              April             3585.0\n",
       "Washington      US              April             2654.0\n",
       "California      US              April             2646.0\n",
       "Name: Fatalities, dtype: float64"
      ]
     },
     "execution_count": 19,
     "metadata": {},
     "output_type": "execute_result"
    }
   ],
   "source": [
    "#Top 10 fatalities with their month, country and province\n",
    "train.groupby(['Province_State','Country_Region','Name of month'])['Fatalities'].sum().nlargest(10)"
   ]
  },
  {
   "cell_type": "code",
   "execution_count": 20,
   "metadata": {},
   "outputs": [
    {
     "data": {
      "text/plain": [
       "Province_State  Country_Region  Name of month  Week\n",
       "New York        US              April          14      516434.0\n",
       "Hubei           China           March          13      474606.0\n",
       "                                               12      474597.0\n",
       "                                               11      474427.0\n",
       "                                               10      472083.0\n",
       "                                February       8       436974.0\n",
       "New York        US              April          15      422751.0\n",
       "Hubei           China           February       9       392107.0\n",
       "                                April          14      339012.0\n",
       "                                February       7       315503.0\n",
       "Name: ConfirmedCases, dtype: float64"
      ]
     },
     "execution_count": 20,
     "metadata": {},
     "output_type": "execute_result"
    }
   ],
   "source": [
    "#Top 10 confirmed cases with their month, week, country and province\n",
    "train.groupby(['Province_State','Country_Region','Name of month','Week'])['ConfirmedCases'].sum().nlargest(10)"
   ]
  },
  {
   "cell_type": "code",
   "execution_count": 21,
   "metadata": {},
   "outputs": [
    {
     "data": {
      "text/plain": [
       "Province_State  Country_Region  Name of month  Week\n",
       "Hubei           China           March          13      22178.0\n",
       "                                               12      21887.0\n",
       "                                               11      21356.0\n",
       "                                               10      20287.0\n",
       "New York        US              April          15      16455.0\n",
       "Hubei           China           April          14      16012.0\n",
       "                                February       9       15723.0\n",
       "New York        US              April          14      14973.0\n",
       "Hubei           China           February       8       14719.0\n",
       "                                April          15       9637.0\n",
       "Name: Fatalities, dtype: float64"
      ]
     },
     "execution_count": 21,
     "metadata": {},
     "output_type": "execute_result"
    }
   ],
   "source": [
    "#Top 10 fatalities by their month, week, country and province\n",
    "train.groupby(['Province_State','Country_Region','Name of month','Week'])['Fatalities'].sum().nlargest(10)"
   ]
  },
  {
   "cell_type": "code",
   "execution_count": 22,
   "metadata": {},
   "outputs": [
    {
     "data": {
      "text/plain": [
       "Province_State  Country_Region  Day_of_year\n",
       "New York        US              99             151061.0\n",
       "                                98             139875.0\n",
       "                                97             131815.0\n",
       "                                96             123160.0\n",
       "                                95             113833.0\n",
       "                                94             102987.0\n",
       "                                93              92506.0\n",
       "                                92              83948.0\n",
       "                                91              75833.0\n",
       "Hubei           China           95              67803.0\n",
       "Name: ConfirmedCases, dtype: float64"
      ]
     },
     "execution_count": 22,
     "metadata": {},
     "output_type": "execute_result"
    }
   ],
   "source": [
    "#Top 10 confirmed cases by their day of year, country and province\n",
    "train.groupby(['Province_State','Country_Region','Day_of_year'])['ConfirmedCases'].sum().nlargest(10)"
   ]
  },
  {
   "cell_type": "code",
   "execution_count": 23,
   "metadata": {},
   "outputs": [
    {
     "data": {
      "text/plain": [
       "Province_State  Country_Region  Day_of_year\n",
       "New York        US              99             6268.0\n",
       "                                98             5489.0\n",
       "                                97             4698.0\n",
       "                                96             4159.0\n",
       "                                95             3565.0\n",
       "Hubei           China           99             3213.0\n",
       "                                97             3212.0\n",
       "                                98             3212.0\n",
       "                                96             3210.0\n",
       "                                95             3207.0\n",
       "Name: Fatalities, dtype: float64"
      ]
     },
     "execution_count": 23,
     "metadata": {},
     "output_type": "execute_result"
    }
   ],
   "source": [
    "#Top 10 fatalities by their day of year, country and province\n",
    "train.groupby(['Province_State','Country_Region','Day_of_year'])['Fatalities'].sum().nlargest(10)"
   ]
  },
  {
   "cell_type": "code",
   "execution_count": 24,
   "metadata": {},
   "outputs": [
    {
     "data": {
      "text/html": [
       "<div>\n",
       "<style scoped>\n",
       "    .dataframe tbody tr th:only-of-type {\n",
       "        vertical-align: middle;\n",
       "    }\n",
       "\n",
       "    .dataframe tbody tr th {\n",
       "        vertical-align: top;\n",
       "    }\n",
       "\n",
       "    .dataframe thead th {\n",
       "        text-align: right;\n",
       "    }\n",
       "</style>\n",
       "<table border=\"1\" class=\"dataframe\">\n",
       "  <thead>\n",
       "    <tr style=\"text-align: right;\">\n",
       "      <th></th>\n",
       "      <th>ConfirmedCases</th>\n",
       "      <th>Fatalities</th>\n",
       "      <th>Month</th>\n",
       "      <th>Week</th>\n",
       "      <th>Day_of_year</th>\n",
       "    </tr>\n",
       "  </thead>\n",
       "  <tbody>\n",
       "    <tr>\n",
       "      <th>0</th>\n",
       "      <td>0.0</td>\n",
       "      <td>0.0</td>\n",
       "      <td>1</td>\n",
       "      <td>4</td>\n",
       "      <td>22</td>\n",
       "    </tr>\n",
       "    <tr>\n",
       "      <th>1</th>\n",
       "      <td>0.0</td>\n",
       "      <td>0.0</td>\n",
       "      <td>1</td>\n",
       "      <td>4</td>\n",
       "      <td>23</td>\n",
       "    </tr>\n",
       "    <tr>\n",
       "      <th>2</th>\n",
       "      <td>0.0</td>\n",
       "      <td>0.0</td>\n",
       "      <td>1</td>\n",
       "      <td>4</td>\n",
       "      <td>24</td>\n",
       "    </tr>\n",
       "    <tr>\n",
       "      <th>3</th>\n",
       "      <td>0.0</td>\n",
       "      <td>0.0</td>\n",
       "      <td>1</td>\n",
       "      <td>4</td>\n",
       "      <td>25</td>\n",
       "    </tr>\n",
       "    <tr>\n",
       "      <th>4</th>\n",
       "      <td>0.0</td>\n",
       "      <td>0.0</td>\n",
       "      <td>1</td>\n",
       "      <td>4</td>\n",
       "      <td>26</td>\n",
       "    </tr>\n",
       "  </tbody>\n",
       "</table>\n",
       "</div>"
      ],
      "text/plain": [
       "   ConfirmedCases  Fatalities  Month  Week  Day_of_year\n",
       "0             0.0         0.0      1     4           22\n",
       "1             0.0         0.0      1     4           23\n",
       "2             0.0         0.0      1     4           24\n",
       "3             0.0         0.0      1     4           25\n",
       "4             0.0         0.0      1     4           26"
      ]
     },
     "execution_count": 24,
     "metadata": {},
     "output_type": "execute_result"
    }
   ],
   "source": [
    "hmap = train[['ConfirmedCases','Fatalities','Month','Week', 'Day_of_year']]\n",
    "hmap.head()"
   ]
  },
  {
   "cell_type": "code",
   "execution_count": 25,
   "metadata": {},
   "outputs": [
    {
     "data": {
      "image/png": "[encoded data removed]",
      "text/plain": [
       "<Figure size 432x288 with 2 Axes>"
      ]
     },
     "metadata": {
      "needs_background": "light"
     },
     "output_type": "display_data"
    }
   ],
   "source": [
    "#Heatmap showing the correlation coefficients \n",
    "corr = hmap.corr()\n",
    "sns.heatmap(corr, annot = True)\n",
    "plt.show()"
   ]
  },
  {
   "cell_type": "code",
   "execution_count": null,
   "metadata": {},
   "outputs": [],
   "source": []
  },
  {
   "cell_type": "code",
   "execution_count": null,
   "metadata": {},
   "outputs": [],
   "source": []
  }
 ],
 "metadata": {
  "kernelspec": {
   "display_name": "Python 3",
   "language": "python",
   "name": "python3"
  },
  "language_info": {
   "codemirror_mode": {
    "name": "ipython",
    "version": 3
   },
   "file_extension": ".py",
   "mimetype": "text/x-python",
   "name": "python",
   "nbconvert_exporter": "python",
   "pygments_lexer": "ipython3",
   "version": "3.7.3"
  }
 },
 "nbformat": 4,
 "nbformat_minor": 2
}
